{
 "cells": [
  {
   "cell_type": "markdown",
   "id": "bd12a308",
   "metadata": {},
   "source": [
    "# importing all required libraries"
   ]
  },
  {
   "cell_type": "code",
   "execution_count": 51,
   "id": "e79e8994",
   "metadata": {},
   "outputs": [
    {
     "data": {
      "text/html": [
       "        <script type=\"text/javascript\">\n",
       "        window.PlotlyConfig = {MathJaxConfig: 'local'};\n",
       "        if (window.MathJax) {MathJax.Hub.Config({SVG: {font: \"STIX-Web\"}});}\n",
       "        if (typeof require !== 'undefined') {\n",
       "        require.undef(\"plotly\");\n",
       "        requirejs.config({\n",
       "            paths: {\n",
       "                'plotly': ['https://cdn.plot.ly/plotly-2.2.0.min']\n",
       "            }\n",
       "        });\n",
       "        require(['plotly'], function(Plotly) {\n",
       "            window._Plotly = Plotly;\n",
       "        });\n",
       "        }\n",
       "        </script>\n",
       "        "
      ]
     },
     "metadata": {},
     "output_type": "display_data"
    },
    {
     "data": {
      "text/html": [
       "        <script type=\"text/javascript\">\n",
       "        window.PlotlyConfig = {MathJaxConfig: 'local'};\n",
       "        if (window.MathJax) {MathJax.Hub.Config({SVG: {font: \"STIX-Web\"}});}\n",
       "        if (typeof require !== 'undefined') {\n",
       "        require.undef(\"plotly\");\n",
       "        requirejs.config({\n",
       "            paths: {\n",
       "                'plotly': ['https://cdn.plot.ly/plotly-2.2.0.min']\n",
       "            }\n",
       "        });\n",
       "        require(['plotly'], function(Plotly) {\n",
       "            window._Plotly = Plotly;\n",
       "        });\n",
       "        }\n",
       "        </script>\n",
       "        "
      ]
     },
     "metadata": {},
     "output_type": "display_data"
    }
   ],
   "source": [
    "import pandas as pd\n",
    "import numpy as np\n",
    "import matplotlib.pyplot as plt\n",
    "\n",
    "import plotly.express as px\n",
    "import cufflinks as cf\n",
    "import chart_studio.plotly as py\n",
    "%matplotlib inline\n",
    "\n",
    "from plotly.offline import download_plotlyjs, init_notebook_mode,plot,iplot\n",
    "init_notebook_mode(connected=True)\n",
    "#to make everything locally\n",
    "cf.go_offline()"
   ]
  },
  {
   "cell_type": "markdown",
   "id": "84d3d66b",
   "metadata": {},
   "source": [
    "# Loading available datasets"
   ]
  },
  {
   "cell_type": "code",
   "execution_count": 2,
   "id": "e342bf85",
   "metadata": {},
   "outputs": [],
   "source": [
    "gps = pd.read_csv(\"D:\\data science\\ineuron\\Project\\Business Analytics\\DATA\\Google Play Store Apps Dataset\\googleplaystore.csv\")\n",
    "gpsr = pd.read_csv(\"D:\\data science\\ineuron\\Project\\Business Analytics\\DATA\\Google Play Store Apps Dataset\\googleplaystore.csv\")"
   ]
  },
  {
   "cell_type": "markdown",
   "id": "c639be4b",
   "metadata": {},
   "source": [
    "# Viewing Data"
   ]
  },
  {
   "cell_type": "code",
   "execution_count": 3,
   "id": "71417624",
   "metadata": {},
   "outputs": [
    {
     "data": {
      "text/html": [
       "<div>\n",
       "<style scoped>\n",
       "    .dataframe tbody tr th:only-of-type {\n",
       "        vertical-align: middle;\n",
       "    }\n",
       "\n",
       "    .dataframe tbody tr th {\n",
       "        vertical-align: top;\n",
       "    }\n",
       "\n",
       "    .dataframe thead th {\n",
       "        text-align: right;\n",
       "    }\n",
       "</style>\n",
       "<table border=\"1\" class=\"dataframe\">\n",
       "  <thead>\n",
       "    <tr style=\"text-align: right;\">\n",
       "      <th></th>\n",
       "      <th>App</th>\n",
       "      <th>Category</th>\n",
       "      <th>Rating</th>\n",
       "      <th>Reviews</th>\n",
       "      <th>Size</th>\n",
       "      <th>Installs</th>\n",
       "      <th>Type</th>\n",
       "      <th>Price</th>\n",
       "      <th>Content Rating</th>\n",
       "      <th>Genres</th>\n",
       "      <th>Last Updated</th>\n",
       "      <th>Current Ver</th>\n",
       "      <th>Android Ver</th>\n",
       "    </tr>\n",
       "  </thead>\n",
       "  <tbody>\n",
       "    <tr>\n",
       "      <th>0</th>\n",
       "      <td>Photo Editor &amp; Candy Camera &amp; Grid &amp; ScrapBook</td>\n",
       "      <td>ART_AND_DESIGN</td>\n",
       "      <td>4.1</td>\n",
       "      <td>159</td>\n",
       "      <td>19M</td>\n",
       "      <td>10,000+</td>\n",
       "      <td>Free</td>\n",
       "      <td>0</td>\n",
       "      <td>Everyone</td>\n",
       "      <td>Art &amp; Design</td>\n",
       "      <td>January 7, 2018</td>\n",
       "      <td>1.0.0</td>\n",
       "      <td>4.0.3 and up</td>\n",
       "    </tr>\n",
       "    <tr>\n",
       "      <th>1</th>\n",
       "      <td>Coloring book moana</td>\n",
       "      <td>ART_AND_DESIGN</td>\n",
       "      <td>3.9</td>\n",
       "      <td>967</td>\n",
       "      <td>14M</td>\n",
       "      <td>500,000+</td>\n",
       "      <td>Free</td>\n",
       "      <td>0</td>\n",
       "      <td>Everyone</td>\n",
       "      <td>Art &amp; Design;Pretend Play</td>\n",
       "      <td>January 15, 2018</td>\n",
       "      <td>2.0.0</td>\n",
       "      <td>4.0.3 and up</td>\n",
       "    </tr>\n",
       "    <tr>\n",
       "      <th>2</th>\n",
       "      <td>U Launcher Lite – FREE Live Cool Themes, Hide ...</td>\n",
       "      <td>ART_AND_DESIGN</td>\n",
       "      <td>4.7</td>\n",
       "      <td>87510</td>\n",
       "      <td>8.7M</td>\n",
       "      <td>5,000,000+</td>\n",
       "      <td>Free</td>\n",
       "      <td>0</td>\n",
       "      <td>Everyone</td>\n",
       "      <td>Art &amp; Design</td>\n",
       "      <td>August 1, 2018</td>\n",
       "      <td>1.2.4</td>\n",
       "      <td>4.0.3 and up</td>\n",
       "    </tr>\n",
       "    <tr>\n",
       "      <th>3</th>\n",
       "      <td>Sketch - Draw &amp; Paint</td>\n",
       "      <td>ART_AND_DESIGN</td>\n",
       "      <td>4.5</td>\n",
       "      <td>215644</td>\n",
       "      <td>25M</td>\n",
       "      <td>50,000,000+</td>\n",
       "      <td>Free</td>\n",
       "      <td>0</td>\n",
       "      <td>Teen</td>\n",
       "      <td>Art &amp; Design</td>\n",
       "      <td>June 8, 2018</td>\n",
       "      <td>Varies with device</td>\n",
       "      <td>4.2 and up</td>\n",
       "    </tr>\n",
       "    <tr>\n",
       "      <th>4</th>\n",
       "      <td>Pixel Draw - Number Art Coloring Book</td>\n",
       "      <td>ART_AND_DESIGN</td>\n",
       "      <td>4.3</td>\n",
       "      <td>967</td>\n",
       "      <td>2.8M</td>\n",
       "      <td>100,000+</td>\n",
       "      <td>Free</td>\n",
       "      <td>0</td>\n",
       "      <td>Everyone</td>\n",
       "      <td>Art &amp; Design;Creativity</td>\n",
       "      <td>June 20, 2018</td>\n",
       "      <td>1.1</td>\n",
       "      <td>4.4 and up</td>\n",
       "    </tr>\n",
       "  </tbody>\n",
       "</table>\n",
       "</div>"
      ],
      "text/plain": [
       "                                                 App        Category  Rating  \\\n",
       "0     Photo Editor & Candy Camera & Grid & ScrapBook  ART_AND_DESIGN     4.1   \n",
       "1                                Coloring book moana  ART_AND_DESIGN     3.9   \n",
       "2  U Launcher Lite – FREE Live Cool Themes, Hide ...  ART_AND_DESIGN     4.7   \n",
       "3                              Sketch - Draw & Paint  ART_AND_DESIGN     4.5   \n",
       "4              Pixel Draw - Number Art Coloring Book  ART_AND_DESIGN     4.3   \n",
       "\n",
       "  Reviews  Size     Installs  Type Price Content Rating  \\\n",
       "0     159   19M      10,000+  Free     0       Everyone   \n",
       "1     967   14M     500,000+  Free     0       Everyone   \n",
       "2   87510  8.7M   5,000,000+  Free     0       Everyone   \n",
       "3  215644   25M  50,000,000+  Free     0           Teen   \n",
       "4     967  2.8M     100,000+  Free     0       Everyone   \n",
       "\n",
       "                      Genres      Last Updated         Current Ver  \\\n",
       "0               Art & Design   January 7, 2018               1.0.0   \n",
       "1  Art & Design;Pretend Play  January 15, 2018               2.0.0   \n",
       "2               Art & Design    August 1, 2018               1.2.4   \n",
       "3               Art & Design      June 8, 2018  Varies with device   \n",
       "4    Art & Design;Creativity     June 20, 2018                 1.1   \n",
       "\n",
       "    Android Ver  \n",
       "0  4.0.3 and up  \n",
       "1  4.0.3 and up  \n",
       "2  4.0.3 and up  \n",
       "3    4.2 and up  \n",
       "4    4.4 and up  "
      ]
     },
     "execution_count": 3,
     "metadata": {},
     "output_type": "execute_result"
    }
   ],
   "source": [
    "gps.head()"
   ]
  },
  {
   "cell_type": "markdown",
   "id": "7a1da9ce",
   "metadata": {},
   "source": [
    "## gps dataset\n",
    "### Findings : Description of the columns\n",
    "- App : name of the applications\n",
    "- Category : category of the applications\n",
    "- Rating : Average Rating Given by the customers/reviewers\n",
    "- Size : Size of the application\n",
    "- Installs : total Installations done(assuming Today)\n",
    "- Type : Free/Paid Type of Applications\n",
    "- Price : Cost Price of Applications\n",
    "- Content Rating : Age Bar of the Application for the user\n",
    "- Genres : Sub Category of the applications\n",
    "- Last Updated : Application Last Updated on the Given Date\n",
    "- Current Ver : Current Version of the Applications\n",
    "- Android Ver : Android Version of the Application\n"
   ]
  },
  {
   "cell_type": "code",
   "execution_count": 4,
   "id": "69dcf29b",
   "metadata": {},
   "outputs": [
    {
     "data": {
      "text/html": [
       "<div>\n",
       "<style scoped>\n",
       "    .dataframe tbody tr th:only-of-type {\n",
       "        vertical-align: middle;\n",
       "    }\n",
       "\n",
       "    .dataframe tbody tr th {\n",
       "        vertical-align: top;\n",
       "    }\n",
       "\n",
       "    .dataframe thead th {\n",
       "        text-align: right;\n",
       "    }\n",
       "</style>\n",
       "<table border=\"1\" class=\"dataframe\">\n",
       "  <thead>\n",
       "    <tr style=\"text-align: right;\">\n",
       "      <th></th>\n",
       "      <th>App</th>\n",
       "      <th>Category</th>\n",
       "      <th>Rating</th>\n",
       "      <th>Reviews</th>\n",
       "      <th>Size</th>\n",
       "      <th>Installs</th>\n",
       "      <th>Type</th>\n",
       "      <th>Price</th>\n",
       "      <th>Content Rating</th>\n",
       "      <th>Genres</th>\n",
       "      <th>Last Updated</th>\n",
       "      <th>Current Ver</th>\n",
       "      <th>Android Ver</th>\n",
       "    </tr>\n",
       "  </thead>\n",
       "  <tbody>\n",
       "    <tr>\n",
       "      <th>0</th>\n",
       "      <td>Photo Editor &amp; Candy Camera &amp; Grid &amp; ScrapBook</td>\n",
       "      <td>ART_AND_DESIGN</td>\n",
       "      <td>4.1</td>\n",
       "      <td>159</td>\n",
       "      <td>19M</td>\n",
       "      <td>10,000+</td>\n",
       "      <td>Free</td>\n",
       "      <td>0</td>\n",
       "      <td>Everyone</td>\n",
       "      <td>Art &amp; Design</td>\n",
       "      <td>January 7, 2018</td>\n",
       "      <td>1.0.0</td>\n",
       "      <td>4.0.3 and up</td>\n",
       "    </tr>\n",
       "    <tr>\n",
       "      <th>1</th>\n",
       "      <td>Coloring book moana</td>\n",
       "      <td>ART_AND_DESIGN</td>\n",
       "      <td>3.9</td>\n",
       "      <td>967</td>\n",
       "      <td>14M</td>\n",
       "      <td>500,000+</td>\n",
       "      <td>Free</td>\n",
       "      <td>0</td>\n",
       "      <td>Everyone</td>\n",
       "      <td>Art &amp; Design;Pretend Play</td>\n",
       "      <td>January 15, 2018</td>\n",
       "      <td>2.0.0</td>\n",
       "      <td>4.0.3 and up</td>\n",
       "    </tr>\n",
       "    <tr>\n",
       "      <th>2</th>\n",
       "      <td>U Launcher Lite – FREE Live Cool Themes, Hide ...</td>\n",
       "      <td>ART_AND_DESIGN</td>\n",
       "      <td>4.7</td>\n",
       "      <td>87510</td>\n",
       "      <td>8.7M</td>\n",
       "      <td>5,000,000+</td>\n",
       "      <td>Free</td>\n",
       "      <td>0</td>\n",
       "      <td>Everyone</td>\n",
       "      <td>Art &amp; Design</td>\n",
       "      <td>August 1, 2018</td>\n",
       "      <td>1.2.4</td>\n",
       "      <td>4.0.3 and up</td>\n",
       "    </tr>\n",
       "    <tr>\n",
       "      <th>3</th>\n",
       "      <td>Sketch - Draw &amp; Paint</td>\n",
       "      <td>ART_AND_DESIGN</td>\n",
       "      <td>4.5</td>\n",
       "      <td>215644</td>\n",
       "      <td>25M</td>\n",
       "      <td>50,000,000+</td>\n",
       "      <td>Free</td>\n",
       "      <td>0</td>\n",
       "      <td>Teen</td>\n",
       "      <td>Art &amp; Design</td>\n",
       "      <td>June 8, 2018</td>\n",
       "      <td>Varies with device</td>\n",
       "      <td>4.2 and up</td>\n",
       "    </tr>\n",
       "    <tr>\n",
       "      <th>4</th>\n",
       "      <td>Pixel Draw - Number Art Coloring Book</td>\n",
       "      <td>ART_AND_DESIGN</td>\n",
       "      <td>4.3</td>\n",
       "      <td>967</td>\n",
       "      <td>2.8M</td>\n",
       "      <td>100,000+</td>\n",
       "      <td>Free</td>\n",
       "      <td>0</td>\n",
       "      <td>Everyone</td>\n",
       "      <td>Art &amp; Design;Creativity</td>\n",
       "      <td>June 20, 2018</td>\n",
       "      <td>1.1</td>\n",
       "      <td>4.4 and up</td>\n",
       "    </tr>\n",
       "  </tbody>\n",
       "</table>\n",
       "</div>"
      ],
      "text/plain": [
       "                                                 App        Category  Rating  \\\n",
       "0     Photo Editor & Candy Camera & Grid & ScrapBook  ART_AND_DESIGN     4.1   \n",
       "1                                Coloring book moana  ART_AND_DESIGN     3.9   \n",
       "2  U Launcher Lite – FREE Live Cool Themes, Hide ...  ART_AND_DESIGN     4.7   \n",
       "3                              Sketch - Draw & Paint  ART_AND_DESIGN     4.5   \n",
       "4              Pixel Draw - Number Art Coloring Book  ART_AND_DESIGN     4.3   \n",
       "\n",
       "  Reviews  Size     Installs  Type Price Content Rating  \\\n",
       "0     159   19M      10,000+  Free     0       Everyone   \n",
       "1     967   14M     500,000+  Free     0       Everyone   \n",
       "2   87510  8.7M   5,000,000+  Free     0       Everyone   \n",
       "3  215644   25M  50,000,000+  Free     0           Teen   \n",
       "4     967  2.8M     100,000+  Free     0       Everyone   \n",
       "\n",
       "                      Genres      Last Updated         Current Ver  \\\n",
       "0               Art & Design   January 7, 2018               1.0.0   \n",
       "1  Art & Design;Pretend Play  January 15, 2018               2.0.0   \n",
       "2               Art & Design    August 1, 2018               1.2.4   \n",
       "3               Art & Design      June 8, 2018  Varies with device   \n",
       "4    Art & Design;Creativity     June 20, 2018                 1.1   \n",
       "\n",
       "    Android Ver  \n",
       "0  4.0.3 and up  \n",
       "1  4.0.3 and up  \n",
       "2  4.0.3 and up  \n",
       "3    4.2 and up  \n",
       "4    4.4 and up  "
      ]
     },
     "execution_count": 4,
     "metadata": {},
     "output_type": "execute_result"
    }
   ],
   "source": [
    "gpsr.head()"
   ]
  },
  {
   "cell_type": "markdown",
   "id": "3405be5d",
   "metadata": {},
   "source": [
    "## gpsr dataset\n",
    "### Findings: Descriptions of the columns\n",
    "\n",
    "- App : name of the applications\n",
    "- Category : category of the applications\n",
    "- Rating : Average Rating Given by the customers/reviewers\n",
    "- Size : Size of the application\n",
    "- Installs : total Installations done(assuming Today)\n",
    "- Type : Free/Paid Type of Applications\n",
    "- Price : Cost Price of Applications\n",
    "- Content Rating : Age Bar of the Application for the user\n",
    "- Genres : Sub Category of the applications\n",
    "- Last Updated : Application Last Updated on the Given Date\n",
    "- Current Ver : Current Version of the Applications\n",
    "- Android Ver : Android Version of the Application"
   ]
  },
  {
   "cell_type": "markdown",
   "id": "795df954",
   "metadata": {},
   "source": [
    "###  We can say that both the datasets look alike, copy but still we are not 100% sure\n",
    "#### to find if two datasets are same or not we will perform following operations:\n",
    "- find out the number of rows in both the datasets\n",
    "- perform inner join on primary key column- to find out primary key (which seems like it is App) we need to find unique values of each column"
   ]
  },
  {
   "cell_type": "code",
   "execution_count": 5,
   "id": "ead4f831",
   "metadata": {},
   "outputs": [
    {
     "data": {
      "text/plain": [
       "(10841, 13)"
      ]
     },
     "execution_count": 5,
     "metadata": {},
     "output_type": "execute_result"
    }
   ],
   "source": [
    "gps.shape    #10841 rows with 13 columns including index"
   ]
  },
  {
   "cell_type": "code",
   "execution_count": 6,
   "id": "8389f3b9",
   "metadata": {},
   "outputs": [
    {
     "data": {
      "text/plain": [
       "(10841, 13)"
      ]
     },
     "execution_count": 6,
     "metadata": {},
     "output_type": "execute_result"
    }
   ],
   "source": [
    "gpsr.shape    ##10841 rows with 13 columns including index"
   ]
  },
  {
   "cell_type": "markdown",
   "id": "ad76fd6c",
   "metadata": {},
   "source": [
    "- finding no of unique elements of each column"
   ]
  },
  {
   "cell_type": "code",
   "execution_count": 7,
   "id": "7ef1eebf",
   "metadata": {},
   "outputs": [
    {
     "data": {
      "text/html": [
       "<div>\n",
       "<style scoped>\n",
       "    .dataframe tbody tr th:only-of-type {\n",
       "        vertical-align: middle;\n",
       "    }\n",
       "\n",
       "    .dataframe tbody tr th {\n",
       "        vertical-align: top;\n",
       "    }\n",
       "\n",
       "    .dataframe thead th {\n",
       "        text-align: right;\n",
       "    }\n",
       "</style>\n",
       "<table border=\"1\" class=\"dataframe\">\n",
       "  <thead>\n",
       "    <tr style=\"text-align: right;\">\n",
       "      <th></th>\n",
       "      <th>App</th>\n",
       "      <th>Category</th>\n",
       "      <th>Reviews</th>\n",
       "      <th>Size</th>\n",
       "      <th>Installs</th>\n",
       "      <th>Type</th>\n",
       "      <th>Price</th>\n",
       "      <th>Content Rating</th>\n",
       "      <th>Genres</th>\n",
       "      <th>Last Updated</th>\n",
       "      <th>Current Ver</th>\n",
       "      <th>Android Ver</th>\n",
       "    </tr>\n",
       "  </thead>\n",
       "  <tbody>\n",
       "    <tr>\n",
       "      <th>count</th>\n",
       "      <td>10841</td>\n",
       "      <td>10841</td>\n",
       "      <td>10841</td>\n",
       "      <td>10841</td>\n",
       "      <td>10841</td>\n",
       "      <td>10840</td>\n",
       "      <td>10841</td>\n",
       "      <td>10840</td>\n",
       "      <td>10841</td>\n",
       "      <td>10841</td>\n",
       "      <td>10833</td>\n",
       "      <td>10838</td>\n",
       "    </tr>\n",
       "    <tr>\n",
       "      <th>unique</th>\n",
       "      <td>9660</td>\n",
       "      <td>34</td>\n",
       "      <td>6002</td>\n",
       "      <td>462</td>\n",
       "      <td>22</td>\n",
       "      <td>3</td>\n",
       "      <td>93</td>\n",
       "      <td>6</td>\n",
       "      <td>120</td>\n",
       "      <td>1378</td>\n",
       "      <td>2832</td>\n",
       "      <td>33</td>\n",
       "    </tr>\n",
       "    <tr>\n",
       "      <th>top</th>\n",
       "      <td>ROBLOX</td>\n",
       "      <td>FAMILY</td>\n",
       "      <td>0</td>\n",
       "      <td>Varies with device</td>\n",
       "      <td>1,000,000+</td>\n",
       "      <td>Free</td>\n",
       "      <td>0</td>\n",
       "      <td>Everyone</td>\n",
       "      <td>Tools</td>\n",
       "      <td>August 3, 2018</td>\n",
       "      <td>Varies with device</td>\n",
       "      <td>4.1 and up</td>\n",
       "    </tr>\n",
       "    <tr>\n",
       "      <th>freq</th>\n",
       "      <td>9</td>\n",
       "      <td>1972</td>\n",
       "      <td>596</td>\n",
       "      <td>1695</td>\n",
       "      <td>1579</td>\n",
       "      <td>10039</td>\n",
       "      <td>10040</td>\n",
       "      <td>8714</td>\n",
       "      <td>842</td>\n",
       "      <td>326</td>\n",
       "      <td>1459</td>\n",
       "      <td>2451</td>\n",
       "    </tr>\n",
       "  </tbody>\n",
       "</table>\n",
       "</div>"
      ],
      "text/plain": [
       "           App Category Reviews                Size    Installs   Type  Price  \\\n",
       "count    10841    10841   10841               10841       10841  10840  10841   \n",
       "unique    9660       34    6002                 462          22      3     93   \n",
       "top     ROBLOX   FAMILY       0  Varies with device  1,000,000+   Free      0   \n",
       "freq         9     1972     596                1695        1579  10039  10040   \n",
       "\n",
       "       Content Rating Genres    Last Updated         Current Ver Android Ver  \n",
       "count           10840  10841           10841               10833       10838  \n",
       "unique              6    120            1378                2832          33  \n",
       "top          Everyone  Tools  August 3, 2018  Varies with device  4.1 and up  \n",
       "freq             8714    842             326                1459        2451  "
      ]
     },
     "execution_count": 7,
     "metadata": {},
     "output_type": "execute_result"
    }
   ],
   "source": [
    "# find all categorical columns \n",
    "gps[gps.dtypes[gps.dtypes=='object'].index].describe()"
   ]
  },
  {
   "cell_type": "code",
   "execution_count": 8,
   "id": "27968fff",
   "metadata": {},
   "outputs": [
    {
     "data": {
      "text/html": [
       "<div>\n",
       "<style scoped>\n",
       "    .dataframe tbody tr th:only-of-type {\n",
       "        vertical-align: middle;\n",
       "    }\n",
       "\n",
       "    .dataframe tbody tr th {\n",
       "        vertical-align: top;\n",
       "    }\n",
       "\n",
       "    .dataframe thead th {\n",
       "        text-align: right;\n",
       "    }\n",
       "</style>\n",
       "<table border=\"1\" class=\"dataframe\">\n",
       "  <thead>\n",
       "    <tr style=\"text-align: right;\">\n",
       "      <th></th>\n",
       "      <th>App</th>\n",
       "      <th>Category</th>\n",
       "      <th>Reviews</th>\n",
       "      <th>Size</th>\n",
       "      <th>Installs</th>\n",
       "      <th>Type</th>\n",
       "      <th>Price</th>\n",
       "      <th>Content Rating</th>\n",
       "      <th>Genres</th>\n",
       "      <th>Last Updated</th>\n",
       "      <th>Current Ver</th>\n",
       "      <th>Android Ver</th>\n",
       "    </tr>\n",
       "  </thead>\n",
       "  <tbody>\n",
       "    <tr>\n",
       "      <th>count</th>\n",
       "      <td>10841</td>\n",
       "      <td>10841</td>\n",
       "      <td>10841</td>\n",
       "      <td>10841</td>\n",
       "      <td>10841</td>\n",
       "      <td>10840</td>\n",
       "      <td>10841</td>\n",
       "      <td>10840</td>\n",
       "      <td>10841</td>\n",
       "      <td>10841</td>\n",
       "      <td>10833</td>\n",
       "      <td>10838</td>\n",
       "    </tr>\n",
       "    <tr>\n",
       "      <th>unique</th>\n",
       "      <td>9660</td>\n",
       "      <td>34</td>\n",
       "      <td>6002</td>\n",
       "      <td>462</td>\n",
       "      <td>22</td>\n",
       "      <td>3</td>\n",
       "      <td>93</td>\n",
       "      <td>6</td>\n",
       "      <td>120</td>\n",
       "      <td>1378</td>\n",
       "      <td>2832</td>\n",
       "      <td>33</td>\n",
       "    </tr>\n",
       "    <tr>\n",
       "      <th>top</th>\n",
       "      <td>ROBLOX</td>\n",
       "      <td>FAMILY</td>\n",
       "      <td>0</td>\n",
       "      <td>Varies with device</td>\n",
       "      <td>1,000,000+</td>\n",
       "      <td>Free</td>\n",
       "      <td>0</td>\n",
       "      <td>Everyone</td>\n",
       "      <td>Tools</td>\n",
       "      <td>August 3, 2018</td>\n",
       "      <td>Varies with device</td>\n",
       "      <td>4.1 and up</td>\n",
       "    </tr>\n",
       "    <tr>\n",
       "      <th>freq</th>\n",
       "      <td>9</td>\n",
       "      <td>1972</td>\n",
       "      <td>596</td>\n",
       "      <td>1695</td>\n",
       "      <td>1579</td>\n",
       "      <td>10039</td>\n",
       "      <td>10040</td>\n",
       "      <td>8714</td>\n",
       "      <td>842</td>\n",
       "      <td>326</td>\n",
       "      <td>1459</td>\n",
       "      <td>2451</td>\n",
       "    </tr>\n",
       "  </tbody>\n",
       "</table>\n",
       "</div>"
      ],
      "text/plain": [
       "           App Category Reviews                Size    Installs   Type  Price  \\\n",
       "count    10841    10841   10841               10841       10841  10840  10841   \n",
       "unique    9660       34    6002                 462          22      3     93   \n",
       "top     ROBLOX   FAMILY       0  Varies with device  1,000,000+   Free      0   \n",
       "freq         9     1972     596                1695        1579  10039  10040   \n",
       "\n",
       "       Content Rating Genres    Last Updated         Current Ver Android Ver  \n",
       "count           10840  10841           10841               10833       10838  \n",
       "unique              6    120            1378                2832          33  \n",
       "top          Everyone  Tools  August 3, 2018  Varies with device  4.1 and up  \n",
       "freq             8714    842             326                1459        2451  "
      ]
     },
     "execution_count": 8,
     "metadata": {},
     "output_type": "execute_result"
    }
   ],
   "source": [
    "# find all categorical columns \n",
    "gpsr[gpsr.dtypes[gpsr.dtypes=='object'].index].describe()"
   ]
  },
  {
   "cell_type": "markdown",
   "id": "7667894a",
   "metadata": {},
   "source": [
    "#### both the datasets are same"
   ]
  },
  {
   "cell_type": "markdown",
   "id": "624c5598",
   "metadata": {},
   "source": [
    "# Handling Categorical Columns \n",
    "- App,Category,Reviews,Size,Installs,Type,Price,Content Rating,Genres,Last Updated,Current Ver,Android Ver are categorical in nature"
   ]
  },
  {
   "cell_type": "code",
   "execution_count": 9,
   "id": "ef4bddd2",
   "metadata": {},
   "outputs": [
    {
     "data": {
      "text/html": [
       "<div>\n",
       "<style scoped>\n",
       "    .dataframe tbody tr th:only-of-type {\n",
       "        vertical-align: middle;\n",
       "    }\n",
       "\n",
       "    .dataframe tbody tr th {\n",
       "        vertical-align: top;\n",
       "    }\n",
       "\n",
       "    .dataframe thead th {\n",
       "        text-align: right;\n",
       "    }\n",
       "</style>\n",
       "<table border=\"1\" class=\"dataframe\">\n",
       "  <thead>\n",
       "    <tr style=\"text-align: right;\">\n",
       "      <th></th>\n",
       "      <th>App</th>\n",
       "      <th>Category</th>\n",
       "      <th>Rating</th>\n",
       "      <th>Reviews</th>\n",
       "      <th>Size</th>\n",
       "      <th>Installs</th>\n",
       "      <th>Type</th>\n",
       "      <th>Price</th>\n",
       "      <th>Content Rating</th>\n",
       "      <th>Genres</th>\n",
       "      <th>Last Updated</th>\n",
       "      <th>Current Ver</th>\n",
       "      <th>Android Ver</th>\n",
       "    </tr>\n",
       "  </thead>\n",
       "  <tbody>\n",
       "    <tr>\n",
       "      <th>0</th>\n",
       "      <td>Photo Editor &amp; Candy Camera &amp; Grid &amp; ScrapBook</td>\n",
       "      <td>ART_AND_DESIGN</td>\n",
       "      <td>4.1</td>\n",
       "      <td>159</td>\n",
       "      <td>19M</td>\n",
       "      <td>10,000+</td>\n",
       "      <td>Free</td>\n",
       "      <td>0</td>\n",
       "      <td>Everyone</td>\n",
       "      <td>Art &amp; Design</td>\n",
       "      <td>January 7, 2018</td>\n",
       "      <td>1.0.0</td>\n",
       "      <td>4.0.3 and up</td>\n",
       "    </tr>\n",
       "    <tr>\n",
       "      <th>1</th>\n",
       "      <td>Coloring book moana</td>\n",
       "      <td>ART_AND_DESIGN</td>\n",
       "      <td>3.9</td>\n",
       "      <td>967</td>\n",
       "      <td>14M</td>\n",
       "      <td>500,000+</td>\n",
       "      <td>Free</td>\n",
       "      <td>0</td>\n",
       "      <td>Everyone</td>\n",
       "      <td>Art &amp; Design;Pretend Play</td>\n",
       "      <td>January 15, 2018</td>\n",
       "      <td>2.0.0</td>\n",
       "      <td>4.0.3 and up</td>\n",
       "    </tr>\n",
       "    <tr>\n",
       "      <th>2</th>\n",
       "      <td>U Launcher Lite – FREE Live Cool Themes, Hide ...</td>\n",
       "      <td>ART_AND_DESIGN</td>\n",
       "      <td>4.7</td>\n",
       "      <td>87510</td>\n",
       "      <td>8.7M</td>\n",
       "      <td>5,000,000+</td>\n",
       "      <td>Free</td>\n",
       "      <td>0</td>\n",
       "      <td>Everyone</td>\n",
       "      <td>Art &amp; Design</td>\n",
       "      <td>August 1, 2018</td>\n",
       "      <td>1.2.4</td>\n",
       "      <td>4.0.3 and up</td>\n",
       "    </tr>\n",
       "    <tr>\n",
       "      <th>3</th>\n",
       "      <td>Sketch - Draw &amp; Paint</td>\n",
       "      <td>ART_AND_DESIGN</td>\n",
       "      <td>4.5</td>\n",
       "      <td>215644</td>\n",
       "      <td>25M</td>\n",
       "      <td>50,000,000+</td>\n",
       "      <td>Free</td>\n",
       "      <td>0</td>\n",
       "      <td>Teen</td>\n",
       "      <td>Art &amp; Design</td>\n",
       "      <td>June 8, 2018</td>\n",
       "      <td>Varies with device</td>\n",
       "      <td>4.2 and up</td>\n",
       "    </tr>\n",
       "    <tr>\n",
       "      <th>4</th>\n",
       "      <td>Pixel Draw - Number Art Coloring Book</td>\n",
       "      <td>ART_AND_DESIGN</td>\n",
       "      <td>4.3</td>\n",
       "      <td>967</td>\n",
       "      <td>2.8M</td>\n",
       "      <td>100,000+</td>\n",
       "      <td>Free</td>\n",
       "      <td>0</td>\n",
       "      <td>Everyone</td>\n",
       "      <td>Art &amp; Design;Creativity</td>\n",
       "      <td>June 20, 2018</td>\n",
       "      <td>1.1</td>\n",
       "      <td>4.4 and up</td>\n",
       "    </tr>\n",
       "    <tr>\n",
       "      <th>5</th>\n",
       "      <td>Paper flowers instructions</td>\n",
       "      <td>ART_AND_DESIGN</td>\n",
       "      <td>4.4</td>\n",
       "      <td>167</td>\n",
       "      <td>5.6M</td>\n",
       "      <td>50,000+</td>\n",
       "      <td>Free</td>\n",
       "      <td>0</td>\n",
       "      <td>Everyone</td>\n",
       "      <td>Art &amp; Design</td>\n",
       "      <td>March 26, 2017</td>\n",
       "      <td>1.0</td>\n",
       "      <td>2.3 and up</td>\n",
       "    </tr>\n",
       "    <tr>\n",
       "      <th>6</th>\n",
       "      <td>Smoke Effect Photo Maker - Smoke Editor</td>\n",
       "      <td>ART_AND_DESIGN</td>\n",
       "      <td>3.8</td>\n",
       "      <td>178</td>\n",
       "      <td>19M</td>\n",
       "      <td>50,000+</td>\n",
       "      <td>Free</td>\n",
       "      <td>0</td>\n",
       "      <td>Everyone</td>\n",
       "      <td>Art &amp; Design</td>\n",
       "      <td>April 26, 2018</td>\n",
       "      <td>1.1</td>\n",
       "      <td>4.0.3 and up</td>\n",
       "    </tr>\n",
       "    <tr>\n",
       "      <th>7</th>\n",
       "      <td>Infinite Painter</td>\n",
       "      <td>ART_AND_DESIGN</td>\n",
       "      <td>4.1</td>\n",
       "      <td>36815</td>\n",
       "      <td>29M</td>\n",
       "      <td>1,000,000+</td>\n",
       "      <td>Free</td>\n",
       "      <td>0</td>\n",
       "      <td>Everyone</td>\n",
       "      <td>Art &amp; Design</td>\n",
       "      <td>June 14, 2018</td>\n",
       "      <td>6.1.61.1</td>\n",
       "      <td>4.2 and up</td>\n",
       "    </tr>\n",
       "    <tr>\n",
       "      <th>8</th>\n",
       "      <td>Garden Coloring Book</td>\n",
       "      <td>ART_AND_DESIGN</td>\n",
       "      <td>4.4</td>\n",
       "      <td>13791</td>\n",
       "      <td>33M</td>\n",
       "      <td>1,000,000+</td>\n",
       "      <td>Free</td>\n",
       "      <td>0</td>\n",
       "      <td>Everyone</td>\n",
       "      <td>Art &amp; Design</td>\n",
       "      <td>September 20, 2017</td>\n",
       "      <td>2.9.2</td>\n",
       "      <td>3.0 and up</td>\n",
       "    </tr>\n",
       "    <tr>\n",
       "      <th>9</th>\n",
       "      <td>Kids Paint Free - Drawing Fun</td>\n",
       "      <td>ART_AND_DESIGN</td>\n",
       "      <td>4.7</td>\n",
       "      <td>121</td>\n",
       "      <td>3.1M</td>\n",
       "      <td>10,000+</td>\n",
       "      <td>Free</td>\n",
       "      <td>0</td>\n",
       "      <td>Everyone</td>\n",
       "      <td>Art &amp; Design;Creativity</td>\n",
       "      <td>July 3, 2018</td>\n",
       "      <td>2.8</td>\n",
       "      <td>4.0.3 and up</td>\n",
       "    </tr>\n",
       "  </tbody>\n",
       "</table>\n",
       "</div>"
      ],
      "text/plain": [
       "                                                 App        Category  Rating  \\\n",
       "0     Photo Editor & Candy Camera & Grid & ScrapBook  ART_AND_DESIGN     4.1   \n",
       "1                                Coloring book moana  ART_AND_DESIGN     3.9   \n",
       "2  U Launcher Lite – FREE Live Cool Themes, Hide ...  ART_AND_DESIGN     4.7   \n",
       "3                              Sketch - Draw & Paint  ART_AND_DESIGN     4.5   \n",
       "4              Pixel Draw - Number Art Coloring Book  ART_AND_DESIGN     4.3   \n",
       "5                         Paper flowers instructions  ART_AND_DESIGN     4.4   \n",
       "6            Smoke Effect Photo Maker - Smoke Editor  ART_AND_DESIGN     3.8   \n",
       "7                                   Infinite Painter  ART_AND_DESIGN     4.1   \n",
       "8                               Garden Coloring Book  ART_AND_DESIGN     4.4   \n",
       "9                      Kids Paint Free - Drawing Fun  ART_AND_DESIGN     4.7   \n",
       "\n",
       "  Reviews  Size     Installs  Type Price Content Rating  \\\n",
       "0     159   19M      10,000+  Free     0       Everyone   \n",
       "1     967   14M     500,000+  Free     0       Everyone   \n",
       "2   87510  8.7M   5,000,000+  Free     0       Everyone   \n",
       "3  215644   25M  50,000,000+  Free     0           Teen   \n",
       "4     967  2.8M     100,000+  Free     0       Everyone   \n",
       "5     167  5.6M      50,000+  Free     0       Everyone   \n",
       "6     178   19M      50,000+  Free     0       Everyone   \n",
       "7   36815   29M   1,000,000+  Free     0       Everyone   \n",
       "8   13791   33M   1,000,000+  Free     0       Everyone   \n",
       "9     121  3.1M      10,000+  Free     0       Everyone   \n",
       "\n",
       "                      Genres        Last Updated         Current Ver  \\\n",
       "0               Art & Design     January 7, 2018               1.0.0   \n",
       "1  Art & Design;Pretend Play    January 15, 2018               2.0.0   \n",
       "2               Art & Design      August 1, 2018               1.2.4   \n",
       "3               Art & Design        June 8, 2018  Varies with device   \n",
       "4    Art & Design;Creativity       June 20, 2018                 1.1   \n",
       "5               Art & Design      March 26, 2017                 1.0   \n",
       "6               Art & Design      April 26, 2018                 1.1   \n",
       "7               Art & Design       June 14, 2018            6.1.61.1   \n",
       "8               Art & Design  September 20, 2017               2.9.2   \n",
       "9    Art & Design;Creativity        July 3, 2018                 2.8   \n",
       "\n",
       "    Android Ver  \n",
       "0  4.0.3 and up  \n",
       "1  4.0.3 and up  \n",
       "2  4.0.3 and up  \n",
       "3    4.2 and up  \n",
       "4    4.4 and up  \n",
       "5    2.3 and up  \n",
       "6  4.0.3 and up  \n",
       "7    4.2 and up  \n",
       "8    3.0 and up  \n",
       "9  4.0.3 and up  "
      ]
     },
     "execution_count": 9,
     "metadata": {},
     "output_type": "execute_result"
    }
   ],
   "source": [
    "gps.head(10)"
   ]
  },
  {
   "cell_type": "code",
   "execution_count": 10,
   "id": "a0c9ea1c",
   "metadata": {},
   "outputs": [
    {
     "name": "stdout",
     "output_type": "stream",
     "text": [
      "App :  9660\n",
      "Category :  34\n",
      "Rating :  41\n",
      "Reviews :  6002\n",
      "Size :  462\n",
      "Installs :  22\n",
      "Type :  4\n",
      "Price :  93\n",
      "Content Rating :  7\n",
      "Genres :  120\n",
      "Last Updated :  1378\n",
      "Current Ver :  2833\n",
      "Android Ver :  34\n"
     ]
    }
   ],
   "source": [
    "for i in gps.columns:\n",
    "    print(i, \": \", len(gps[i].unique()))"
   ]
  },
  {
   "cell_type": "markdown",
   "id": "4b62c928",
   "metadata": {},
   "source": [
    "## Android Ver Column"
   ]
  },
  {
   "cell_type": "code",
   "execution_count": 11,
   "id": "1fd1150b",
   "metadata": {},
   "outputs": [
    {
     "data": {
      "text/plain": [
       "Index(['1.0 and up', '1.5 and up', '1.6 and up', '2.0 and up', '2.0.1 and up',\n",
       "       '2.1 and up', '2.2 - 7.1.1', '2.2 and up', '2.3 and up', '2.3.3 and up',\n",
       "       '3.0 and up', '3.1 and up', '3.2 and up', '4.0 and up', '4.0.3 - 7.1.1',\n",
       "       '4.0.3 and up', '4.1 - 7.1.1', '4.1 and up', '4.2 and up', '4.3 and up',\n",
       "       '4.4 and up', '4.4W and up', '5.0 - 6.0', '5.0 - 7.1.1', '5.0 - 8.0',\n",
       "       '5.0 and up', '5.1 and up', '6.0 and up', '7.0 - 7.1.1', '7.0 and up',\n",
       "       '7.1 and up', '8.0 and up', 'Varies with device'],\n",
       "      dtype='object')"
      ]
     },
     "execution_count": 11,
     "metadata": {},
     "output_type": "execute_result"
    }
   ],
   "source": [
    "list_version = gps['Android Ver'].value_counts().sort_index(ascending = True).index\n",
    "list_version"
   ]
  },
  {
   "cell_type": "code",
   "execution_count": 12,
   "id": "51a53032",
   "metadata": {},
   "outputs": [],
   "source": [
    "def clean_version():\n",
    "    AndroidVersion = []\n",
    "    for i in gps['Android Ver']:\n",
    "\n",
    "        try:\n",
    "            AndroidVersion.append(i[0:3])\n",
    "        except:\n",
    "            AndroidVersion.append(0)\n",
    "    return AndroidVersion"
   ]
  },
  {
   "cell_type": "code",
   "execution_count": 13,
   "id": "4ca34399",
   "metadata": {},
   "outputs": [],
   "source": [
    "gps['AndroidVersion'] = clean_version()"
   ]
  },
  {
   "cell_type": "code",
   "execution_count": 14,
   "id": "266b2225",
   "metadata": {},
   "outputs": [],
   "source": [
    "# performing random sample imputation\n",
    "\n",
    "#total number of random samples required \n",
    "total_Var = gps[gps['AndroidVersion']=='Var']['AndroidVersion'].value_counts().values\n",
    "# list of random values\n",
    "random_sample = gps['AndroidVersion'].drop(gps[gps['AndroidVersion']=='Var'].index).sample(total_Var)\n",
    "# list of index where the values are 'var' \n",
    "random_sample.index = gps[gps['AndroidVersion']=='Var'].index\n",
    "# replacing the \"VAr\" with random sample\n",
    "gps.loc[(random_sample.index),'AndroidVersion'] = random_sample"
   ]
  },
  {
   "cell_type": "code",
   "execution_count": 15,
   "id": "454d4de3",
   "metadata": {},
   "outputs": [],
   "source": [
    "# converting into float type data\n",
    "gps['AndroidVersion'] =gps['AndroidVersion'].astype('float')"
   ]
  },
  {
   "cell_type": "markdown",
   "id": "5573a235",
   "metadata": {},
   "source": [
    "## Current Ver Column"
   ]
  },
  {
   "cell_type": "code",
   "execution_count": 16,
   "id": "77c71491",
   "metadata": {},
   "outputs": [
    {
     "data": {
      "text/plain": [
       "2833"
      ]
     },
     "execution_count": 16,
     "metadata": {},
     "output_type": "execute_result"
    }
   ],
   "source": [
    "len(gps['Current Ver'].unique())"
   ]
  },
  {
   "cell_type": "code",
   "execution_count": 17,
   "id": "ae87d16d",
   "metadata": {},
   "outputs": [
    {
     "data": {
      "text/plain": [
       "Varies with device    1459\n",
       "1.0                    809\n",
       "1.1                    264\n",
       "1.2                    178\n",
       "2.0                    151\n",
       "1.3                    145\n",
       "1.0.0                  136\n",
       "1.0.1                  119\n",
       "1.4                     88\n",
       "1.5                     81\n",
       "1.0.2                   80\n",
       "1.6                     65\n",
       "1.0.3                   62\n",
       "2.1                     61\n",
       "3.0                     59\n",
       "1.0.4                   58\n",
       "1.7                     53\n",
       "2.0.0                   51\n",
       "1.0.5                   50\n",
       "1.1.0                   49\n",
       "Name: Current Ver, dtype: int64"
      ]
     },
     "execution_count": 17,
     "metadata": {},
     "output_type": "execute_result"
    }
   ],
   "source": [
    "gps['Current Ver'].value_counts().sort_values(ascending = False).head(20)"
   ]
  },
  {
   "cell_type": "code",
   "execution_count": 18,
   "id": "31e077c3",
   "metadata": {},
   "outputs": [],
   "source": [
    "def convert_label(column):\n",
    "    \n",
    "    unique_categories = column.unique()\n",
    "    \n",
    "    for category in unique_categories:\n",
    "        if len(str(category))>3:\n",
    "            try:\n",
    "                num = float(category[0:3])\n",
    "                if num >=1 and num < 1.5:\n",
    "                    return 1\n",
    "                elif num >=1.5 and num <2.0:\n",
    "                    return 1.5\n",
    "                elif num >=2.0 and num <2.5:\n",
    "                    return 2\n",
    "                elif num >=2.5 and num <3:\n",
    "                    return 2.5\n",
    "                elif num >=3 and num <3.5:\n",
    "                    return 3\n",
    "                elif num >=3.5 and num <4:\n",
    "                    return 3.5\n",
    "                elif num >=4 and num <5:\n",
    "                    return 4\n",
    "                elif num>=5 and num <6:\n",
    "                    return 5\n",
    "                else:\n",
    "                    return 6\n",
    "            except:\n",
    "                return 0 \n",
    "        else:\n",
    "                return 0\n",
    "                \n",
    "                \n",
    "                \n",
    "                    "
   ]
  },
  {
   "cell_type": "code",
   "execution_count": 19,
   "id": "5f3ca1eb",
   "metadata": {},
   "outputs": [],
   "source": [
    "gps['CurrentVersion'] = gps[['Current Ver']].apply(convert_label, axis =1 )"
   ]
  },
  {
   "cell_type": "markdown",
   "id": "97b3ada5",
   "metadata": {},
   "source": [
    "# Genres\n",
    "- we have seen that this variable has total 120 categories"
   ]
  },
  {
   "cell_type": "code",
   "execution_count": 20,
   "id": "9d86720a",
   "metadata": {},
   "outputs": [
    {
     "data": {
      "text/plain": [
       "Tools              842\n",
       "Entertainment      623\n",
       "Education          549\n",
       "Medical            463\n",
       "Business           460\n",
       "Productivity       424\n",
       "Sports             398\n",
       "Personalization    392\n",
       "Communication      387\n",
       "Lifestyle          381\n",
       "Name: Genres, dtype: int64"
      ]
     },
     "execution_count": 20,
     "metadata": {},
     "output_type": "execute_result"
    }
   ],
   "source": [
    "gps['Genres'].value_counts().sort_values(ascending = False).head(10)\n",
    "#data is nominal we can do mean encoding"
   ]
  },
  {
   "cell_type": "code",
   "execution_count": 21,
   "id": "d2bc7ed2",
   "metadata": {},
   "outputs": [],
   "source": [
    "frequency_genres= gps['Genres'].value_counts().to_dict()\n",
    "gps['GenresNew'] = gps['Genres'].map(frequency_genres)"
   ]
  },
  {
   "cell_type": "markdown",
   "id": "8af03e56",
   "metadata": {},
   "source": [
    "# Content Rating"
   ]
  },
  {
   "cell_type": "code",
   "execution_count": 22,
   "id": "a799b3f7",
   "metadata": {},
   "outputs": [
    {
     "data": {
      "text/plain": [
       "Everyone           8714\n",
       "Teen               1208\n",
       "Mature 17+          499\n",
       "Everyone 10+        414\n",
       "Adults only 18+       3\n",
       "Unrated               2\n",
       "Name: Content Rating, dtype: int64"
      ]
     },
     "execution_count": 22,
     "metadata": {},
     "output_type": "execute_result"
    }
   ],
   "source": [
    "gps['Content Rating'].value_counts()"
   ]
  },
  {
   "cell_type": "code",
   "execution_count": 23,
   "id": "0b6e3b16",
   "metadata": {},
   "outputs": [],
   "source": [
    "# the categories are limited and we have to find the pattern only so we will leave this as it is"
   ]
  },
  {
   "cell_type": "markdown",
   "id": "5364f2c2",
   "metadata": {},
   "source": [
    "# Price"
   ]
  },
  {
   "cell_type": "code",
   "execution_count": 24,
   "id": "26f362ed",
   "metadata": {},
   "outputs": [
    {
     "data": {
      "text/plain": [
       "0          10040\n",
       "$0.99        148\n",
       "$2.99        129\n",
       "$1.99         73\n",
       "$4.99         72\n",
       "           ...  \n",
       "$19.90         1\n",
       "$2.60          1\n",
       "$109.99        1\n",
       "$28.99         1\n",
       "$3.02          1\n",
       "Name: Price, Length: 93, dtype: int64"
      ]
     },
     "execution_count": 24,
     "metadata": {},
     "output_type": "execute_result"
    }
   ],
   "source": [
    "gps['Price'].value_counts()\n",
    "# we need to remove this $ sign "
   ]
  },
  {
   "cell_type": "code",
   "execution_count": 25,
   "id": "15ba5cfd",
   "metadata": {},
   "outputs": [],
   "source": [
    "def clean_dollar(column):\n",
    "    for i in gps['Price']:\n",
    "        if i.startswith('$'):\n",
    "            return float(i[1:])"
   ]
  },
  {
   "cell_type": "code",
   "execution_count": 26,
   "id": "6128d992",
   "metadata": {},
   "outputs": [],
   "source": [
    "gps['PriceNew'] = gps[['Price']].apply(clean_dollar, axis = 1)"
   ]
  },
  {
   "cell_type": "markdown",
   "id": "4b041f24",
   "metadata": {},
   "source": [
    "# Type"
   ]
  },
  {
   "cell_type": "code",
   "execution_count": 27,
   "id": "22e2f783",
   "metadata": {},
   "outputs": [
    {
     "data": {
      "text/plain": [
       "Free    10039\n",
       "Paid      800\n",
       "0           1\n",
       "Name: Type, dtype: int64"
      ]
     },
     "execution_count": 27,
     "metadata": {},
     "output_type": "execute_result"
    }
   ],
   "source": [
    "gps.Type.value_counts()"
   ]
  },
  {
   "cell_type": "code",
   "execution_count": 28,
   "id": "c3f381c2",
   "metadata": {},
   "outputs": [],
   "source": [
    "# converting o to 'free'\n",
    "gps.loc[(gps['Type']=='0'),'Type'] = 'Free'"
   ]
  },
  {
   "cell_type": "code",
   "execution_count": 29,
   "id": "f02e1a43",
   "metadata": {},
   "outputs": [
    {
     "data": {
      "text/plain": [
       "Free    10040\n",
       "Paid      800\n",
       "Name: Type, dtype: int64"
      ]
     },
     "execution_count": 29,
     "metadata": {},
     "output_type": "execute_result"
    }
   ],
   "source": [
    "gps.Type.value_counts()"
   ]
  },
  {
   "cell_type": "markdown",
   "id": "d7082d9c",
   "metadata": {},
   "source": [
    "# Installs"
   ]
  },
  {
   "cell_type": "code",
   "execution_count": 30,
   "id": "8419c3f6",
   "metadata": {},
   "outputs": [],
   "source": [
    "# all categories contains + at the end we can remove this and convert free into 0\n",
    "def clean_plus(column):\n",
    "    l=[]\n",
    "    for i in gps['Installs']:\n",
    "        if i.endswith('+'):\n",
    "            i = i.replace(\",\",\"\")\n",
    "            l.append(i[:-1])\n",
    "        else:\n",
    "            l.append(0)\n",
    "    return l"
   ]
  },
  {
   "cell_type": "code",
   "execution_count": 31,
   "id": "a624c63b",
   "metadata": {},
   "outputs": [
    {
     "data": {
      "text/plain": [
       "dtype('O')"
      ]
     },
     "execution_count": 31,
     "metadata": {},
     "output_type": "execute_result"
    }
   ],
   "source": [
    "gps[\"InstallNew\"]=clean_plus(gps['Installs'])\n",
    "gps[\"InstallNew\"].dtypes # the datatype is still object we need to make it float/int"
   ]
  },
  {
   "cell_type": "code",
   "execution_count": 32,
   "id": "bda0df55",
   "metadata": {},
   "outputs": [],
   "source": [
    "gps[\"InstallNew\"] = gps[\"InstallNew\"].astype('int')"
   ]
  },
  {
   "cell_type": "markdown",
   "id": "c7a71c25",
   "metadata": {},
   "source": [
    "# Category"
   ]
  },
  {
   "cell_type": "code",
   "execution_count": 33,
   "id": "661c7c74",
   "metadata": {},
   "outputs": [],
   "source": [
    "frequency_category = gps.Category.value_counts().to_dict()"
   ]
  },
  {
   "cell_type": "code",
   "execution_count": 34,
   "id": "d2efceb4",
   "metadata": {},
   "outputs": [],
   "source": [
    "gps.Category=gps.Category.map(frequency_category)"
   ]
  },
  {
   "cell_type": "markdown",
   "id": "2a73fc66",
   "metadata": {},
   "source": [
    "# Size"
   ]
  },
  {
   "cell_type": "code",
   "execution_count": 35,
   "id": "db9717e3",
   "metadata": {},
   "outputs": [
    {
     "data": {
      "text/plain": [
       "array(['19M', '14M', '8.7M', '25M', '2.8M', '5.6M', '29M', '33M', '3.1M',\n",
       "       '28M', '12M', '20M', '21M', '37M', '2.7M', '5.5M', '17M', '39M',\n",
       "       '31M', '4.2M', '7.0M', '23M', '6.0M', '6.1M', '4.6M', '9.2M',\n",
       "       '5.2M', '11M', '24M', 'Varies with device', '9.4M', '15M', '10M',\n",
       "       '1.2M', '26M', '8.0M', '7.9M', '56M', '57M', '35M', '54M', '201k',\n",
       "       '3.6M', '5.7M', '8.6M', '2.4M', '27M', '2.5M', '16M', '3.4M',\n",
       "       '8.9M', '3.9M', '2.9M', '38M', '32M', '5.4M', '18M', '1.1M',\n",
       "       '2.2M', '4.5M', '9.8M', '52M', '9.0M', '6.7M', '30M', '2.6M',\n",
       "       '7.1M', '3.7M', '22M', '7.4M', '6.4M', '3.2M', '8.2M', '9.9M',\n",
       "       '4.9M', '9.5M', '5.0M', '5.9M', '13M', '73M', '6.8M', '3.5M',\n",
       "       '4.0M', '2.3M', '7.2M', '2.1M', '42M', '7.3M', '9.1M', '55M',\n",
       "       '23k', '6.5M', '1.5M', '7.5M', '51M', '41M', '48M', '8.5M', '46M',\n",
       "       '8.3M', '4.3M', '4.7M', '3.3M', '40M', '7.8M', '8.8M', '6.6M',\n",
       "       '5.1M', '61M', '66M', '79k', '8.4M', '118k', '44M', '695k', '1.6M',\n",
       "       '6.2M', '18k', '53M', '1.4M', '3.0M', '5.8M', '3.8M', '9.6M',\n",
       "       '45M', '63M', '49M', '77M', '4.4M', '4.8M', '70M', '6.9M', '9.3M',\n",
       "       '10.0M', '8.1M', '36M', '84M', '97M', '2.0M', '1.9M', '1.8M',\n",
       "       '5.3M', '47M', '556k', '526k', '76M', '7.6M', '59M', '9.7M', '78M',\n",
       "       '72M', '43M', '7.7M', '6.3M', '334k', '34M', '93M', '65M', '79M',\n",
       "       '100M', '58M', '50M', '68M', '64M', '67M', '60M', '94M', '232k',\n",
       "       '99M', '624k', '95M', '8.5k', '41k', '292k', '11k', '80M', '1.7M',\n",
       "       '74M', '62M', '69M', '75M', '98M', '85M', '82M', '96M', '87M',\n",
       "       '71M', '86M', '91M', '81M', '92M', '83M', '88M', '704k', '862k',\n",
       "       '899k', '378k', '266k', '375k', '1.3M', '975k', '980k', '4.1M',\n",
       "       '89M', '696k', '544k', '525k', '920k', '779k', '853k', '720k',\n",
       "       '713k', '772k', '318k', '58k', '241k', '196k', '857k', '51k',\n",
       "       '953k', '865k', '251k', '930k', '540k', '313k', '746k', '203k',\n",
       "       '26k', '314k', '239k', '371k', '220k', '730k', '756k', '91k',\n",
       "       '293k', '17k', '74k', '14k', '317k', '78k', '924k', '902k', '818k',\n",
       "       '81k', '939k', '169k', '45k', '475k', '965k', '90M', '545k', '61k',\n",
       "       '283k', '655k', '714k', '93k', '872k', '121k', '322k', '1.0M',\n",
       "       '976k', '172k', '238k', '549k', '206k', '954k', '444k', '717k',\n",
       "       '210k', '609k', '308k', '705k', '306k', '904k', '473k', '175k',\n",
       "       '350k', '383k', '454k', '421k', '70k', '812k', '442k', '842k',\n",
       "       '417k', '412k', '459k', '478k', '335k', '782k', '721k', '430k',\n",
       "       '429k', '192k', '200k', '460k', '728k', '496k', '816k', '414k',\n",
       "       '506k', '887k', '613k', '243k', '569k', '778k', '683k', '592k',\n",
       "       '319k', '186k', '840k', '647k', '191k', '373k', '437k', '598k',\n",
       "       '716k', '585k', '982k', '222k', '219k', '55k', '948k', '323k',\n",
       "       '691k', '511k', '951k', '963k', '25k', '554k', '351k', '27k',\n",
       "       '82k', '208k', '913k', '514k', '551k', '29k', '103k', '898k',\n",
       "       '743k', '116k', '153k', '209k', '353k', '499k', '173k', '597k',\n",
       "       '809k', '122k', '411k', '400k', '801k', '787k', '237k', '50k',\n",
       "       '643k', '986k', '97k', '516k', '837k', '780k', '961k', '269k',\n",
       "       '20k', '498k', '600k', '749k', '642k', '881k', '72k', '656k',\n",
       "       '601k', '221k', '228k', '108k', '940k', '176k', '33k', '663k',\n",
       "       '34k', '942k', '259k', '164k', '458k', '245k', '629k', '28k',\n",
       "       '288k', '775k', '785k', '636k', '916k', '994k', '309k', '485k',\n",
       "       '914k', '903k', '608k', '500k', '54k', '562k', '847k', '957k',\n",
       "       '688k', '811k', '270k', '48k', '329k', '523k', '921k', '874k',\n",
       "       '981k', '784k', '280k', '24k', '518k', '754k', '892k', '154k',\n",
       "       '860k', '364k', '387k', '626k', '161k', '879k', '39k', '970k',\n",
       "       '170k', '141k', '160k', '144k', '143k', '190k', '376k', '193k',\n",
       "       '246k', '73k', '658k', '992k', '253k', '420k', '404k', '1,000+',\n",
       "       '470k', '226k', '240k', '89k', '234k', '257k', '861k', '467k',\n",
       "       '157k', '44k', '676k', '67k', '552k', '885k', '1020k', '582k',\n",
       "       '619k'], dtype=object)"
      ]
     },
     "execution_count": 35,
     "metadata": {},
     "output_type": "execute_result"
    }
   ],
   "source": [
    "gps.Size.unique()"
   ]
  },
  {
   "cell_type": "code",
   "execution_count": 36,
   "id": "f5a2a27a",
   "metadata": {},
   "outputs": [],
   "source": [
    "# all the unique values are ending with either M --Million or K --Thousand we can delete the \"M\"(and further multiply the remaining value with 10) and \"K\"\n",
    "def removeMk(column):\n",
    "    for i in column:\n",
    "        if i.endswith('M'):\n",
    "            i = i.replace(\",\",\"\")\n",
    "            return float(i[:-1])*1000\n",
    "        elif i.endswith('k'):\n",
    "            i = i.replace(\",\",\"\")\n",
    "            return float(i[:-1])\n",
    "        else:\n",
    "            i =  i.replace(\",\",\"\")\n",
    "            return i"
   ]
  },
  {
   "cell_type": "code",
   "execution_count": 37,
   "id": "16076958",
   "metadata": {},
   "outputs": [],
   "source": [
    "gps['SizeNew'] = gps[['Size']].apply(removeMk, axis =1)"
   ]
  },
  {
   "cell_type": "code",
   "execution_count": 38,
   "id": "97274778",
   "metadata": {},
   "outputs": [],
   "source": [
    "# replacing 'Varies with device' category in 'SizeNew' column with random sample imputation\n",
    "\n",
    "# list of index where the category == ''Varies with device''\n",
    "indexlist = gps.loc[gps['SizeNew']=='Varies with device', 'SizeNew'].index\n",
    "\n",
    "#list of randomsamples to replace 'Varies with device' category\n",
    "random_samples_size = gps['SizeNew'].drop(indexlist).sample(len(indexlist))\n",
    "\n",
    "#index should be same for random_samples_size and where the values=='VAries with device'\n",
    "random_samples_size.index = indexlist\n",
    "\n",
    "#replacing the 'Varies with Device' with random sample_size\n",
    "gps.loc[gps['SizeNew']=='Varies with device', 'SizeNew'] = random_samples_size"
   ]
  },
  {
   "cell_type": "code",
   "execution_count": 39,
   "id": "083ee5ab",
   "metadata": {},
   "outputs": [
    {
     "name": "stdout",
     "output_type": "stream",
     "text": [
      "1000+ <class 'str'>\n"
     ]
    }
   ],
   "source": [
    "for i in gps.SizeNew.unique():\n",
    "    if type(i)!=float:\n",
    "        print(i, type(i))"
   ]
  },
  {
   "cell_type": "code",
   "execution_count": 40,
   "id": "2578d85d",
   "metadata": {},
   "outputs": [],
   "source": [
    "# repalcing 1000+ with 1000\n",
    "gps.loc[gps['SizeNew']=='1000+', 'SizeNew']=1000\n",
    "# changing the datatype\n",
    "gps.SizeNew = gps.SizeNew.astype('float')"
   ]
  },
  {
   "cell_type": "markdown",
   "id": "3c367bd3",
   "metadata": {},
   "source": [
    "# Reviews"
   ]
  },
  {
   "cell_type": "code",
   "execution_count": 41,
   "id": "9a97e30b",
   "metadata": {},
   "outputs": [],
   "source": [
    "def review_convert(column):\n",
    "    for i in column:\n",
    "        try:\n",
    "            return float(i)\n",
    "        except:\n",
    "            return i"
   ]
  },
  {
   "cell_type": "code",
   "execution_count": 42,
   "id": "3e562704",
   "metadata": {},
   "outputs": [
    {
     "name": "stdout",
     "output_type": "stream",
     "text": [
      "object\n"
     ]
    }
   ],
   "source": [
    "gps['ReviewsNew'] = gps[['Reviews']].apply(review_convert, axis =1)\n",
    "print(gps['ReviewsNew'].dtypes)  # still object we need to make it float/int"
   ]
  },
  {
   "cell_type": "code",
   "execution_count": 43,
   "id": "33058e37",
   "metadata": {},
   "outputs": [
    {
     "name": "stdout",
     "output_type": "stream",
     "text": [
      "3.0M\n"
     ]
    }
   ],
   "source": [
    "for i in gps['ReviewsNew'].unique():\n",
    "    if type(i)!=float:\n",
    "        print(i)"
   ]
  },
  {
   "cell_type": "code",
   "execution_count": 44,
   "id": "0b04f44b",
   "metadata": {},
   "outputs": [],
   "source": [
    "gps.loc[gps['ReviewsNew']=='3.0M','ReviewsNew']=3000000"
   ]
  },
  {
   "cell_type": "code",
   "execution_count": 45,
   "id": "1e870f89",
   "metadata": {},
   "outputs": [],
   "source": [
    "gps['ReviewsNew']= gps['ReviewsNew'].astype('float')"
   ]
  },
  {
   "cell_type": "markdown",
   "id": "38928b93",
   "metadata": {},
   "source": [
    "# Last Updated"
   ]
  },
  {
   "cell_type": "code",
   "execution_count": 46,
   "id": "c0e91c3a",
   "metadata": {},
   "outputs": [],
   "source": [
    "gps['LastUpdatedYear'] = pd.to_datetime(gps['Last Updated'],errors = 'coerce').dt.year\n",
    "gps['LastUpdatedMonth'] = pd.to_datetime(gps['Last Updated'],errors = 'coerce').dt.month"
   ]
  },
  {
   "cell_type": "markdown",
   "id": "9ffcc216",
   "metadata": {},
   "source": [
    "## dropping the undesired column after Step1 Cleaning"
   ]
  },
  {
   "cell_type": "code",
   "execution_count": 47,
   "id": "b1b3f949",
   "metadata": {},
   "outputs": [],
   "source": [
    "# drop the undesired columns:\n",
    "gps.drop(['Reviews','Size','Installs','Price','Current Ver','Android Ver','Genres','App','Last Updated'], axis =1, inplace =True)"
   ]
  },
  {
   "cell_type": "code",
   "execution_count": 48,
   "id": "51314a82",
   "metadata": {},
   "outputs": [
    {
     "data": {
      "text/html": [
       "<div>\n",
       "<style scoped>\n",
       "    .dataframe tbody tr th:only-of-type {\n",
       "        vertical-align: middle;\n",
       "    }\n",
       "\n",
       "    .dataframe tbody tr th {\n",
       "        vertical-align: top;\n",
       "    }\n",
       "\n",
       "    .dataframe thead th {\n",
       "        text-align: right;\n",
       "    }\n",
       "</style>\n",
       "<table border=\"1\" class=\"dataframe\">\n",
       "  <thead>\n",
       "    <tr style=\"text-align: right;\">\n",
       "      <th></th>\n",
       "      <th>Category</th>\n",
       "      <th>Rating</th>\n",
       "      <th>Type</th>\n",
       "      <th>Content Rating</th>\n",
       "      <th>AndroidVersion</th>\n",
       "      <th>CurrentVersion</th>\n",
       "      <th>GenresNew</th>\n",
       "      <th>PriceNew</th>\n",
       "      <th>InstallNew</th>\n",
       "      <th>SizeNew</th>\n",
       "      <th>ReviewsNew</th>\n",
       "      <th>LastUpdatedYear</th>\n",
       "      <th>LastUpdatedMonth</th>\n",
       "    </tr>\n",
       "  </thead>\n",
       "  <tbody>\n",
       "    <tr>\n",
       "      <th>0</th>\n",
       "      <td>65</td>\n",
       "      <td>4.1</td>\n",
       "      <td>Free</td>\n",
       "      <td>Everyone</td>\n",
       "      <td>4.0</td>\n",
       "      <td>1.0</td>\n",
       "      <td>58</td>\n",
       "      <td>4.99</td>\n",
       "      <td>10000</td>\n",
       "      <td>19000.0</td>\n",
       "      <td>159.0</td>\n",
       "      <td>2018.0</td>\n",
       "      <td>1.0</td>\n",
       "    </tr>\n",
       "    <tr>\n",
       "      <th>1</th>\n",
       "      <td>65</td>\n",
       "      <td>3.9</td>\n",
       "      <td>Free</td>\n",
       "      <td>Everyone</td>\n",
       "      <td>4.0</td>\n",
       "      <td>2.0</td>\n",
       "      <td>2</td>\n",
       "      <td>4.99</td>\n",
       "      <td>500000</td>\n",
       "      <td>14000.0</td>\n",
       "      <td>967.0</td>\n",
       "      <td>2018.0</td>\n",
       "      <td>1.0</td>\n",
       "    </tr>\n",
       "    <tr>\n",
       "      <th>2</th>\n",
       "      <td>65</td>\n",
       "      <td>4.7</td>\n",
       "      <td>Free</td>\n",
       "      <td>Everyone</td>\n",
       "      <td>4.0</td>\n",
       "      <td>1.0</td>\n",
       "      <td>58</td>\n",
       "      <td>4.99</td>\n",
       "      <td>5000000</td>\n",
       "      <td>8700.0</td>\n",
       "      <td>87510.0</td>\n",
       "      <td>2018.0</td>\n",
       "      <td>8.0</td>\n",
       "    </tr>\n",
       "    <tr>\n",
       "      <th>3</th>\n",
       "      <td>65</td>\n",
       "      <td>4.5</td>\n",
       "      <td>Free</td>\n",
       "      <td>Teen</td>\n",
       "      <td>4.2</td>\n",
       "      <td>0.0</td>\n",
       "      <td>58</td>\n",
       "      <td>4.99</td>\n",
       "      <td>50000000</td>\n",
       "      <td>25000.0</td>\n",
       "      <td>215644.0</td>\n",
       "      <td>2018.0</td>\n",
       "      <td>6.0</td>\n",
       "    </tr>\n",
       "    <tr>\n",
       "      <th>4</th>\n",
       "      <td>65</td>\n",
       "      <td>4.3</td>\n",
       "      <td>Free</td>\n",
       "      <td>Everyone</td>\n",
       "      <td>4.4</td>\n",
       "      <td>0.0</td>\n",
       "      <td>7</td>\n",
       "      <td>4.99</td>\n",
       "      <td>100000</td>\n",
       "      <td>2800.0</td>\n",
       "      <td>967.0</td>\n",
       "      <td>2018.0</td>\n",
       "      <td>6.0</td>\n",
       "    </tr>\n",
       "  </tbody>\n",
       "</table>\n",
       "</div>"
      ],
      "text/plain": [
       "   Category  Rating  Type Content Rating  AndroidVersion  CurrentVersion  \\\n",
       "0        65     4.1  Free       Everyone             4.0             1.0   \n",
       "1        65     3.9  Free       Everyone             4.0             2.0   \n",
       "2        65     4.7  Free       Everyone             4.0             1.0   \n",
       "3        65     4.5  Free           Teen             4.2             0.0   \n",
       "4        65     4.3  Free       Everyone             4.4             0.0   \n",
       "\n",
       "   GenresNew  PriceNew  InstallNew  SizeNew  ReviewsNew  LastUpdatedYear  \\\n",
       "0         58      4.99       10000  19000.0       159.0           2018.0   \n",
       "1          2      4.99      500000  14000.0       967.0           2018.0   \n",
       "2         58      4.99     5000000   8700.0     87510.0           2018.0   \n",
       "3         58      4.99    50000000  25000.0    215644.0           2018.0   \n",
       "4          7      4.99      100000   2800.0       967.0           2018.0   \n",
       "\n",
       "   LastUpdatedMonth  \n",
       "0               1.0  \n",
       "1               1.0  \n",
       "2               8.0  \n",
       "3               6.0  \n",
       "4               6.0  "
      ]
     },
     "execution_count": 48,
     "metadata": {},
     "output_type": "execute_result"
    }
   ],
   "source": [
    "gps.head()"
   ]
  },
  {
   "cell_type": "code",
   "execution_count": 49,
   "id": "0eea98d5",
   "metadata": {},
   "outputs": [
    {
     "data": {
      "text/plain": [
       "Category              int64\n",
       "Rating              float64\n",
       "Type                 object\n",
       "Content Rating       object\n",
       "AndroidVersion      float64\n",
       "CurrentVersion      float64\n",
       "GenresNew             int64\n",
       "PriceNew            float64\n",
       "InstallNew            int32\n",
       "SizeNew             float64\n",
       "ReviewsNew          float64\n",
       "LastUpdatedYear     float64\n",
       "LastUpdatedMonth    float64\n",
       "dtype: object"
      ]
     },
     "execution_count": 49,
     "metadata": {},
     "output_type": "execute_result"
    }
   ],
   "source": [
    "# DataTypes\n",
    "gps.dtypes"
   ]
  },
  {
   "cell_type": "markdown",
   "id": "cd7b5823",
   "metadata": {},
   "source": [
    "# Analysis"
   ]
  },
  {
   "cell_type": "markdown",
   "id": "98af14c0",
   "metadata": {},
   "source": [
    "## Which Type has more installations?"
   ]
  },
  {
   "cell_type": "code",
   "execution_count": 50,
   "id": "41425ce2",
   "metadata": {},
   "outputs": [],
   "source": [
    "\n",
    "## Which category has more installations?\n",
    "## Which content Rating has maximum installations?"
   ]
  }
 ],
 "metadata": {
  "kernelspec": {
   "display_name": "Python 3",
   "language": "python",
   "name": "python3"
  },
  "language_info": {
   "codemirror_mode": {
    "name": "ipython",
    "version": 3
   },
   "file_extension": ".py",
   "mimetype": "text/x-python",
   "name": "python",
   "nbconvert_exporter": "python",
   "pygments_lexer": "ipython3",
   "version": "3.8.8"
  }
 },
 "nbformat": 4,
 "nbformat_minor": 5
}
